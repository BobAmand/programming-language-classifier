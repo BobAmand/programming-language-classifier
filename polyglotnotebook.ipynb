{
 "cells": [
  {
   "cell_type": "markdown",
   "metadata": {},
   "source": [
    "Current exercise has the following steps:\n",
    "1. create a process that will discriminate computer code and identify a language by the code features.\n",
    "2. the input training and test files needs to be prepared (presumed structure is a set of tuples [key feature, [set of features]).\n",
    "3. the discriminating features of code are not yet defined. \n",
    "4. the files need to be processed for input.\n",
    "5. Need to decide which classifier is useful.\n",
    "\n",
    "Strategy and Initial observations:\n",
    "1. Envisioning a set of data that includes a row number, a profile of regex distributions, and the code type. \n",
    "2. Need to determine how to read in a file name, capture the file extension and associate it with the regex text profile.\n",
    "3. Immerse self in the TextBlob software. \n",
    "4. Need to understand the role of glob.glob.\n"
   ]
  }
 ],
 "metadata": {
  "kernelspec": {
   "display_name": "Python 3",
   "language": "python",
   "name": "python3"
  },
  "language_info": {
   "codemirror_mode": {
    "name": "ipython",
    "version": 3
   },
   "file_extension": ".py",
   "mimetype": "text/x-python",
   "name": "python",
   "nbconvert_exporter": "python",
   "pygments_lexer": "ipython3",
   "version": "3.4.3"
  }
 },
 "nbformat": 4,
 "nbformat_minor": 0
}
