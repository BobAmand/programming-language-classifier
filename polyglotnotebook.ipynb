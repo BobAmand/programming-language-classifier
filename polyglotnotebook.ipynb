{
 "cells": [
  {
   "cell_type": "code",
   "execution_count": 60,
   "metadata": {
    "collapsed": true
   },
   "outputs": [],
   "source": [
    "from collections import Counter, defaultdict, namedtuple\n",
    "from functools import partial\n",
    "import pandas as pd\n",
    "import numpy as np\n",
    "import math, random\n",
    "import glob"
   ]
  },
  {
   "cell_type": "markdown",
   "metadata": {},
   "source": [
    "Current exercise has the following steps:\n",
    "1. create a DECODER model that will discriminate computer code and identify the language by the code features.\n",
    "2. the input training and test files needs to be prepared.\n",
    "3. Target Structure to feed into decoding model:\n",
    "    - training set: [file ID, [set of features, known code])\n",
    "    - testing set: [file ID, [set of features, known code])\n",
    "3. the discriminating features of code are not yet defined. \n",
    "4. the files need to be processed for input.\n",
    "5. Need to decide which classifier is useful.\n",
    "\n",
    "Strategy and Initial observations:\n",
    "1. Envisioning a set of data that includes a row number, a profile of regex distributions, and the code type. \n",
    "2. Need to determine how to read in a file name, capture the file extension and associate it with the regex text profile.\n",
    "3. Immerse self in the TextBlob software. \n",
    "4. Need to understand the role of glob.glob.\n"
   ]
  },
  {
   "cell_type": "markdown",
   "metadata": {},
   "source": [
    "Loading test data:\n",
    "1. glob the test set of files: 1 -> 32\n",
    "2. append the test.csv code label (answer key for code file 1 to 32)\n",
    "   - There are 2-4 code assignments per code type in the test data.\n",
    "   - Target training to test ratio should between 60/40 and 75/25.\n",
    "   - Therefore, need a minimum of 16 training snippets per code to cover the minimum 25% (4test/16train).\n",
    "3. initial train/testing will focus on one translater.\n",
    "4. quick build - a test and a benchmark. [start with ONE]\n",
    "   - build a test for Clojure.\n",
    "   - build a training set for Clojure."
   ]
  },
  {
   "cell_type": "markdown",
   "metadata": {},
   "source": [
    "Will start by getting control of the test data:"
   ]
  },
  {
   "cell_type": "code",
   "execution_count": 61,
   "metadata": {
    "collapsed": true
   },
   "outputs": [],
   "source": [
    "def read_snippets_test(num):\n",
    "    snips=[]\n",
    "    for i in range(1, num):\n",
    "        filetest = glob.glob('test/{}'.format(i))\n",
    "        for files in filetest:\n",
    "            with open(files) as f:\n",
    "                snips.append(f.read())\n",
    "    return snips"
   ]
  },
  {
   "cell_type": "code",
   "execution_count": 125,
   "metadata": {
    "collapsed": false
   },
   "outputs": [],
   "source": [
    "sniptest = read_snippets_test(33)"
   ]
  },
  {
   "cell_type": "markdown",
   "metadata": {},
   "source": [
    "Verified that all test files read into sniptest with\n",
    "- len(sniptest)\n",
    "- type(sniptest)\n",
    "- sniptest[0] - various slices compared to original files."
   ]
  },
  {
   "cell_type": "code",
   "execution_count": 129,
   "metadata": {
    "collapsed": true
   },
   "outputs": [],
   "source": [
    "sniptestnames = pd.read_csv('test.csv',sep=',',header=None)"
   ]
  },
  {
   "cell_type": "code",
   "execution_count": 130,
   "metadata": {
    "collapsed": false
   },
   "outputs": [
    {
     "data": {
      "text/plain": [
       "pandas.core.frame.DataFrame"
      ]
     },
     "execution_count": 130,
     "metadata": {},
     "output_type": "execute_result"
    }
   ],
   "source": [
    "type(sniptestnames)"
   ]
  },
  {
   "cell_type": "code",
   "execution_count": 131,
   "metadata": {
    "collapsed": false
   },
   "outputs": [
    {
     "data": {
      "text/plain": [
       "32"
      ]
     },
     "execution_count": 131,
     "metadata": {},
     "output_type": "execute_result"
    }
   ],
   "source": [
    "len(sniptestnames)"
   ]
  },
  {
   "cell_type": "markdown",
   "metadata": {},
   "source": [
    "Appended the column with the test code examples to the code key file: \n",
    "Verified that the content was read into the dataframe:"
   ]
  },
  {
   "cell_type": "code",
   "execution_count": 137,
   "metadata": {
    "collapsed": true
   },
   "outputs": [],
   "source": [
    "sniptestnames[2] = sniptest"
   ]
  },
  {
   "cell_type": "code",
   "execution_count": 141,
   "metadata": {
    "collapsed": false
   },
   "outputs": [
    {
     "data": {
      "text/html": [
       "<div>\n",
       "<table border=\"1\" class=\"dataframe\">\n",
       "  <thead>\n",
       "    <tr style=\"text-align: right;\">\n",
       "      <th></th>\n",
       "      <th>0</th>\n",
       "      <th>1</th>\n",
       "      <th>2</th>\n",
       "    </tr>\n",
       "  </thead>\n",
       "  <tbody>\n",
       "    <tr>\n",
       "      <th>29</th>\n",
       "      <td>30</td>\n",
       "      <td>php</td>\n",
       "      <td>class Application extends App {\\n\\t/**\\n\\t * @...</td>\n",
       "    </tr>\n",
       "    <tr>\n",
       "      <th>30</th>\n",
       "      <td>31</td>\n",
       "      <td>ocaml</td>\n",
       "      <td>type name = string\\n\\nlet compare_label label1...</td>\n",
       "    </tr>\n",
       "    <tr>\n",
       "      <th>31</th>\n",
       "      <td>32</td>\n",
       "      <td>ocaml</td>\n",
       "      <td>let search_compiler_libs () =\\n  prerr_endline...</td>\n",
       "    </tr>\n",
       "  </tbody>\n",
       "</table>\n",
       "</div>"
      ],
      "text/plain": [
       "     0      1                                                  2\n",
       "29  30    php  class Application extends App {\\n\\t/**\\n\\t * @...\n",
       "30  31  ocaml  type name = string\\n\\nlet compare_label label1...\n",
       "31  32  ocaml  let search_compiler_libs () =\\n  prerr_endline..."
      ]
     },
     "execution_count": 141,
     "metadata": {},
     "output_type": "execute_result"
    }
   ],
   "source": [
    "sniptestnames[-3:]"
   ]
  },
  {
   "cell_type": "code",
   "execution_count": 142,
   "metadata": {
    "collapsed": false
   },
   "outputs": [
    {
     "data": {
      "text/html": [
       "<div>\n",
       "<table border=\"1\" class=\"dataframe\">\n",
       "  <thead>\n",
       "    <tr style=\"text-align: right;\">\n",
       "      <th></th>\n",
       "      <th>0</th>\n",
       "      <th>1</th>\n",
       "      <th>2</th>\n",
       "    </tr>\n",
       "  </thead>\n",
       "  <tbody>\n",
       "    <tr>\n",
       "      <th>0</th>\n",
       "      <td>1</td>\n",
       "      <td>clojure</td>\n",
       "      <td>(defn cf-settings\\n  \"Setup settings for campf...</td>\n",
       "    </tr>\n",
       "    <tr>\n",
       "      <th>1</th>\n",
       "      <td>2</td>\n",
       "      <td>clojure</td>\n",
       "      <td>(ns my-cli.core)\\n\\n(defn -main [&amp; args]\\n  (p...</td>\n",
       "    </tr>\n",
       "    <tr>\n",
       "      <th>2</th>\n",
       "      <td>3</td>\n",
       "      <td>clojure</td>\n",
       "      <td>(extend-type String\\n  Person\\n  (first-name [...</td>\n",
       "    </tr>\n",
       "    <tr>\n",
       "      <th>3</th>\n",
       "      <td>4</td>\n",
       "      <td>clojure</td>\n",
       "      <td>(require '[overtone.live :as overtone])\\n\\n(de...</td>\n",
       "    </tr>\n",
       "    <tr>\n",
       "      <th>4</th>\n",
       "      <td>5</td>\n",
       "      <td>python</td>\n",
       "      <td>from pkgutil import iter_modules\\nfrom subproc...</td>\n",
       "    </tr>\n",
       "    <tr>\n",
       "      <th>5</th>\n",
       "      <td>6</td>\n",
       "      <td>python</td>\n",
       "      <td>import re\\nimport subprocess\\n\\ndef cmd_keymap...</td>\n",
       "    </tr>\n",
       "    <tr>\n",
       "      <th>6</th>\n",
       "      <td>7</td>\n",
       "      <td>python</td>\n",
       "      <td>class NoSuchService(Exception):\\n    def __ini...</td>\n",
       "    </tr>\n",
       "    <tr>\n",
       "      <th>7</th>\n",
       "      <td>8</td>\n",
       "      <td>python</td>\n",
       "      <td>from collections import namedtuple\\nimport fun...</td>\n",
       "    </tr>\n",
       "    <tr>\n",
       "      <th>8</th>\n",
       "      <td>9</td>\n",
       "      <td>javascript</td>\n",
       "      <td>function errorHandler(context) {\\n  return fun...</td>\n",
       "    </tr>\n",
       "    <tr>\n",
       "      <th>9</th>\n",
       "      <td>10</td>\n",
       "      <td>javascript</td>\n",
       "      <td>var _ = require('lodash'),\\n    fs = require('...</td>\n",
       "    </tr>\n",
       "    <tr>\n",
       "      <th>10</th>\n",
       "      <td>11</td>\n",
       "      <td>javascript</td>\n",
       "      <td>/* Riot v2.0.8, @license MIT, (c) 2015 Muut In...</td>\n",
       "    </tr>\n",
       "    <tr>\n",
       "      <th>11</th>\n",
       "      <td>12</td>\n",
       "      <td>javascript</td>\n",
       "      <td>var r = riot.route = function(arg) {\\n    //...</td>\n",
       "    </tr>\n",
       "    <tr>\n",
       "      <th>12</th>\n",
       "      <td>13</td>\n",
       "      <td>ruby</td>\n",
       "      <td>module ActiveJob\\n  module Core\\n    extend Ac...</td>\n",
       "    </tr>\n",
       "    <tr>\n",
       "      <th>13</th>\n",
       "      <td>14</td>\n",
       "      <td>ruby</td>\n",
       "      <td>require 'formula'\\n\\nclass A52dec &lt; Formula\\n ...</td>\n",
       "    </tr>\n",
       "    <tr>\n",
       "      <th>14</th>\n",
       "      <td>15</td>\n",
       "      <td>ruby</td>\n",
       "      <td>module Fluent\\n  class Input\\n    include Conf...</td>\n",
       "    </tr>\n",
       "    <tr>\n",
       "      <th>15</th>\n",
       "      <td>16</td>\n",
       "      <td>haskell</td>\n",
       "      <td>{-# LANGUAGE ScopedTypeVariables, FlexibleInst...</td>\n",
       "    </tr>\n",
       "    <tr>\n",
       "      <th>16</th>\n",
       "      <td>17</td>\n",
       "      <td>haskell</td>\n",
       "      <td>reverseDependencies :: ModuleGraph -&gt; M.Map Mo...</td>\n",
       "    </tr>\n",
       "    <tr>\n",
       "      <th>17</th>\n",
       "      <td>18</td>\n",
       "      <td>haskell</td>\n",
       "      <td>{- git-annex extra config files\\n -\\n - Copyri...</td>\n",
       "    </tr>\n",
       "    <tr>\n",
       "      <th>18</th>\n",
       "      <td>19</td>\n",
       "      <td>scheme</td>\n",
       "      <td>(define subst-f\\n  (lambda (new old l)\\n    (c...</td>\n",
       "    </tr>\n",
       "    <tr>\n",
       "      <th>19</th>\n",
       "      <td>20</td>\n",
       "      <td>scheme</td>\n",
       "      <td>(define add1\\n  (lambda (n) (+ n 1)))</td>\n",
       "    </tr>\n",
       "    <tr>\n",
       "      <th>20</th>\n",
       "      <td>21</td>\n",
       "      <td>scheme</td>\n",
       "      <td>(define-lib-primitive (length lst)\\n  (if (nul...</td>\n",
       "    </tr>\n",
       "    <tr>\n",
       "      <th>21</th>\n",
       "      <td>22</td>\n",
       "      <td>java</td>\n",
       "      <td>/**\\n * Interface to represent a persistence s...</td>\n",
       "    </tr>\n",
       "    <tr>\n",
       "      <th>22</th>\n",
       "      <td>23</td>\n",
       "      <td>java</td>\n",
       "      <td>/*\\n * Copyright 2002-2008 the original author...</td>\n",
       "    </tr>\n",
       "    <tr>\n",
       "      <th>23</th>\n",
       "      <td>24</td>\n",
       "      <td>scala</td>\n",
       "      <td>package com.github.pathikrit\\n\\nimport scala.a...</td>\n",
       "    </tr>\n",
       "    <tr>\n",
       "      <th>24</th>\n",
       "      <td>25</td>\n",
       "      <td>scala</td>\n",
       "      <td>/* sbt -- Simple Build Tool\\n * Copyright 2010...</td>\n",
       "    </tr>\n",
       "    <tr>\n",
       "      <th>25</th>\n",
       "      <td>26</td>\n",
       "      <td>tcl</td>\n",
       "      <td>proc isaac::mix {a b c d e f g h} {\\n    set a...</td>\n",
       "    </tr>\n",
       "    <tr>\n",
       "      <th>26</th>\n",
       "      <td>27</td>\n",
       "      <td>tcl</td>\n",
       "      <td>proc twitter::follow {nick uhost hand chan arg...</td>\n",
       "    </tr>\n",
       "    <tr>\n",
       "      <th>27</th>\n",
       "      <td>28</td>\n",
       "      <td>php</td>\n",
       "      <td>class View\\n{\\n    /**\\n     * Data available ...</td>\n",
       "    </tr>\n",
       "    <tr>\n",
       "      <th>28</th>\n",
       "      <td>29</td>\n",
       "      <td>php</td>\n",
       "      <td>public function formatLocalized($format)\\n...</td>\n",
       "    </tr>\n",
       "    <tr>\n",
       "      <th>29</th>\n",
       "      <td>30</td>\n",
       "      <td>php</td>\n",
       "      <td>class Application extends App {\\n\\t/**\\n\\t * @...</td>\n",
       "    </tr>\n",
       "    <tr>\n",
       "      <th>30</th>\n",
       "      <td>31</td>\n",
       "      <td>ocaml</td>\n",
       "      <td>type name = string\\n\\nlet compare_label label1...</td>\n",
       "    </tr>\n",
       "    <tr>\n",
       "      <th>31</th>\n",
       "      <td>32</td>\n",
       "      <td>ocaml</td>\n",
       "      <td>let search_compiler_libs () =\\n  prerr_endline...</td>\n",
       "    </tr>\n",
       "  </tbody>\n",
       "</table>\n",
       "</div>"
      ],
      "text/plain": [
       "     0           1                                                  2\n",
       "0    1     clojure  (defn cf-settings\\n  \"Setup settings for campf...\n",
       "1    2     clojure  (ns my-cli.core)\\n\\n(defn -main [& args]\\n  (p...\n",
       "2    3     clojure  (extend-type String\\n  Person\\n  (first-name [...\n",
       "3    4     clojure  (require '[overtone.live :as overtone])\\n\\n(de...\n",
       "4    5      python  from pkgutil import iter_modules\\nfrom subproc...\n",
       "5    6      python  import re\\nimport subprocess\\n\\ndef cmd_keymap...\n",
       "6    7      python  class NoSuchService(Exception):\\n    def __ini...\n",
       "7    8      python  from collections import namedtuple\\nimport fun...\n",
       "8    9  javascript  function errorHandler(context) {\\n  return fun...\n",
       "9   10  javascript  var _ = require('lodash'),\\n    fs = require('...\n",
       "10  11  javascript  /* Riot v2.0.8, @license MIT, (c) 2015 Muut In...\n",
       "11  12  javascript    var r = riot.route = function(arg) {\\n    //...\n",
       "12  13        ruby  module ActiveJob\\n  module Core\\n    extend Ac...\n",
       "13  14        ruby  require 'formula'\\n\\nclass A52dec < Formula\\n ...\n",
       "14  15        ruby  module Fluent\\n  class Input\\n    include Conf...\n",
       "15  16     haskell  {-# LANGUAGE ScopedTypeVariables, FlexibleInst...\n",
       "16  17     haskell  reverseDependencies :: ModuleGraph -> M.Map Mo...\n",
       "17  18     haskell  {- git-annex extra config files\\n -\\n - Copyri...\n",
       "18  19      scheme  (define subst-f\\n  (lambda (new old l)\\n    (c...\n",
       "19  20      scheme              (define add1\\n  (lambda (n) (+ n 1)))\n",
       "20  21      scheme  (define-lib-primitive (length lst)\\n  (if (nul...\n",
       "21  22        java  /**\\n * Interface to represent a persistence s...\n",
       "22  23        java  /*\\n * Copyright 2002-2008 the original author...\n",
       "23  24       scala  package com.github.pathikrit\\n\\nimport scala.a...\n",
       "24  25       scala  /* sbt -- Simple Build Tool\\n * Copyright 2010...\n",
       "25  26         tcl  proc isaac::mix {a b c d e f g h} {\\n    set a...\n",
       "26  27         tcl  proc twitter::follow {nick uhost hand chan arg...\n",
       "27  28         php  class View\\n{\\n    /**\\n     * Data available ...\n",
       "28  29         php      public function formatLocalized($format)\\n...\n",
       "29  30         php  class Application extends App {\\n\\t/**\\n\\t * @...\n",
       "30  31       ocaml  type name = string\\n\\nlet compare_label label1...\n",
       "31  32       ocaml  let search_compiler_libs () =\\n  prerr_endline..."
      ]
     },
     "execution_count": 142,
     "metadata": {},
     "output_type": "execute_result"
    }
   ],
   "source": [
    "sniptestnames"
   ]
  },
  {
   "cell_type": "markdown",
   "metadata": {},
   "source": []
  },
  {
   "cell_type": "markdown",
   "metadata": {},
   "source": [
    "  "
   ]
  },
  {
   "cell_type": "markdown",
   "metadata": {},
   "source": []
  },
  {
   "cell_type": "code",
   "execution_count": 191,
   "metadata": {
    "collapsed": false
   },
   "outputs": [],
   "source": [
    "def read_snippets_train(directory):\n",
    "    filetrain = glob.glob('benchmarksgame-2014-08-31/benchmarksgame/bench/{}/*.clojure*'.format(directory))\n",
    "    snips = []\n",
    "    for files in filetrain:\n",
    "        with open(files) as f:\n",
    "            snips.append(f.read())\n",
    "    return snips"
   ]
  },
  {
   "cell_type": "code",
   "execution_count": 197,
   "metadata": {
    "collapsed": false
   },
   "outputs": [],
   "source": [
    "dir_list = ['binarytrees','binarytreesredux','chameneosredux', 'fannkuchredux', 'fasta']\n",
    "#,'fannkuchredux','fasta','fastaredux','knucleotide','mandelbrot','meteor']\n",
    "\n",
    "def clojure_capture(dir_list):\n",
    "    total_clojure_set = []\n",
    "    for i in dir_list:\n",
    "        total_clojure_set = read_snippets_train(i)\n",
    "        total_clojure_set += total_clojure_set\n",
    "    return total_clojure_set\n"
   ]
  },
  {
   "cell_type": "markdown",
   "metadata": {},
   "source": [
    "Verified that the helper function worked to accurately capture the text associated with each code in the directories:\n",
    "[For the first 2 directories, works perfectly.  When add the third, the function loses the first 5 entries!]\n",
    "[Had to regress to a stepwise rather than recursive approach due to lack of time.]"
   ]
  },
  {
   "cell_type": "code",
   "execution_count": 201,
   "metadata": {
    "collapsed": false
   },
   "outputs": [],
   "source": [
    "total_clojure = clojure_capture(dir_list)"
   ]
  },
  {
   "cell_type": "code",
   "execution_count": 205,
   "metadata": {
    "collapsed": false
   },
   "outputs": [
    {
     "data": {
      "text/plain": [
       "5"
      ]
     },
     "execution_count": 205,
     "metadata": {},
     "output_type": "execute_result"
    }
   ],
   "source": [
    "len(dir_list)"
   ]
  },
  {
   "cell_type": "code",
   "execution_count": 203,
   "metadata": {
    "collapsed": false
   },
   "outputs": [
    {
     "data": {
      "text/plain": [
       "4"
      ]
     },
     "execution_count": 203,
     "metadata": {},
     "output_type": "execute_result"
    }
   ],
   "source": [
    "len(total_clojure)"
   ]
  },
  {
   "cell_type": "code",
   "execution_count": 208,
   "metadata": {
    "collapsed": false
   },
   "outputs": [],
   "source": [
    "one_clojure = read_snippets_train('binarytrees')"
   ]
  },
  {
   "cell_type": "code",
   "execution_count": 209,
   "metadata": {
    "collapsed": true
   },
   "outputs": [],
   "source": [
    "two_clojure = read_snippets_train('binarytreesredux')"
   ]
  },
  {
   "cell_type": "code",
   "execution_count": 210,
   "metadata": {
    "collapsed": true
   },
   "outputs": [],
   "source": [
    "three_clojure = read_snippets_train('chameneosredux')"
   ]
  },
  {
   "cell_type": "code",
   "execution_count": 211,
   "metadata": {
    "collapsed": true
   },
   "outputs": [],
   "source": [
    "four_clojure = read_snippets_train('fannkcuchredux')"
   ]
  },
  {
   "cell_type": "code",
   "execution_count": 212,
   "metadata": {
    "collapsed": true
   },
   "outputs": [],
   "source": [
    "five_clojure = read_snippets_train('fasta')"
   ]
  },
  {
   "cell_type": "code",
   "execution_count": 213,
   "metadata": {
    "collapsed": true
   },
   "outputs": [],
   "source": [
    "six_clojure = read_snippets_train('knucleotide')"
   ]
  },
  {
   "cell_type": "code",
   "execution_count": 216,
   "metadata": {
    "collapsed": true
   },
   "outputs": [],
   "source": [
    "seven_clojure = read_snippets_train('fastaredux')"
   ]
  },
  {
   "cell_type": "code",
   "execution_count": 217,
   "metadata": {
    "collapsed": true
   },
   "outputs": [],
   "source": [
    "eight_clojure = read_snippets_train('mandelbrot')"
   ]
  },
  {
   "cell_type": "code",
   "execution_count": 218,
   "metadata": {
    "collapsed": false
   },
   "outputs": [],
   "source": [
    "total_c = (one_clojure + two_clojure + three_clojure + four_clojure + five_clojure + six_clojure + seven_clojure +\n",
    "           eight_clojure)"
   ]
  },
  {
   "cell_type": "code",
   "execution_count": 219,
   "metadata": {
    "collapsed": false
   },
   "outputs": [
    {
     "data": {
      "text/plain": [
       "18"
      ]
     },
     "execution_count": 219,
     "metadata": {},
     "output_type": "execute_result"
    }
   ],
   "source": [
    "len(total_c)"
   ]
  },
  {
   "cell_type": "markdown",
   "metadata": {},
   "source": [
    "Now have a training set of clojure snippets.  Need to Featurize them for clojure."
   ]
  },
  {
   "cell_type": "code",
   "execution_count": 220,
   "metadata": {
    "collapsed": false
   },
   "outputs": [
    {
     "data": {
      "text/plain": [
       "list"
      ]
     },
     "execution_count": 220,
     "metadata": {},
     "output_type": "execute_result"
    }
   ],
   "source": [
    "type(total_c)"
   ]
  },
  {
   "cell_type": "code",
   "execution_count": 233,
   "metadata": {
    "collapsed": true
   },
   "outputs": [],
   "source": [
    "#helper file to append the code type to the code snippet in a tuple.\n",
    "\n",
    "codelist = total_c\n",
    "codeid = 'clojure'\n",
    "\n",
    "def labeler(codelist,codeid):\n",
    "    code_group = defaultdict(list)\n",
    "    for item in codelist:\n",
    "        key = item[0][codeid]\n",
    "        code_group[key].append(item)\n",
    "    return(code_group)\n",
    "        \n",
    "#  Discouraging when code written in class does not work!!\n",
    "# attempting to append 'clojure' to each snippet."
   ]
  },
  {
   "cell_type": "code",
   "execution_count": 236,
   "metadata": {
    "collapsed": false
   },
   "outputs": [
    {
     "ename": "TypeError",
     "evalue": "int() argument must be a string, a bytes-like object or a number, not 'list'",
     "output_type": "error",
     "traceback": [
      "\u001b[0;31m---------------------------------------------------------------------------\u001b[0m",
      "\u001b[0;31mTypeError\u001b[0m                                 Traceback (most recent call last)",
      "\u001b[0;32m<ipython-input-236-0f6904db26cb>\u001b[0m in \u001b[0;36m<module>\u001b[0;34m()\u001b[0m\n\u001b[0;32m----> 1\u001b[0;31m \u001b[0mlabeler\u001b[0m\u001b[0;34m(\u001b[0m\u001b[0mcodelist\u001b[0m\u001b[0;34m,\u001b[0m \u001b[0mcodeid\u001b[0m\u001b[0;34m)\u001b[0m\u001b[0;34m\u001b[0m\u001b[0m\n\u001b[0m",
      "\u001b[0;32m<ipython-input-233-62e3016d008a>\u001b[0m in \u001b[0;36mlabeler\u001b[0;34m(codelist, codeid)\u001b[0m\n\u001b[1;32m      6\u001b[0m \u001b[0;32mdef\u001b[0m \u001b[0mlabeler\u001b[0m\u001b[0;34m(\u001b[0m\u001b[0mcodelist\u001b[0m\u001b[0;34m,\u001b[0m\u001b[0mcodeid\u001b[0m\u001b[0;34m)\u001b[0m\u001b[0;34m:\u001b[0m\u001b[0;34m\u001b[0m\u001b[0m\n\u001b[1;32m      7\u001b[0m     \u001b[0mcode_group\u001b[0m \u001b[0;34m=\u001b[0m \u001b[0mdefaultdict\u001b[0m\u001b[0;34m(\u001b[0m\u001b[0mlist\u001b[0m\u001b[0;34m)\u001b[0m\u001b[0;34m\u001b[0m\u001b[0m\n\u001b[0;32m----> 8\u001b[0;31m     \u001b[0;32mfor\u001b[0m \u001b[0mitem\u001b[0m \u001b[0;32min\u001b[0m \u001b[0mint\u001b[0m\u001b[0;34m(\u001b[0m\u001b[0mcodelist\u001b[0m\u001b[0;34m)\u001b[0m\u001b[0;34m:\u001b[0m\u001b[0;34m\u001b[0m\u001b[0m\n\u001b[0m\u001b[1;32m      9\u001b[0m         \u001b[0mkey\u001b[0m \u001b[0;34m=\u001b[0m \u001b[0mitem\u001b[0m\u001b[0;34m[\u001b[0m\u001b[0;36m0\u001b[0m\u001b[0;34m]\u001b[0m\u001b[0;34m[\u001b[0m\u001b[0mcodeid\u001b[0m\u001b[0;34m]\u001b[0m\u001b[0;34m\u001b[0m\u001b[0m\n\u001b[1;32m     10\u001b[0m         \u001b[0mcode_group\u001b[0m\u001b[0;34m[\u001b[0m\u001b[0mkey\u001b[0m\u001b[0;34m]\u001b[0m\u001b[0;34m.\u001b[0m\u001b[0mappend\u001b[0m\u001b[0;34m(\u001b[0m\u001b[0mitem\u001b[0m\u001b[0;34m)\u001b[0m\u001b[0;34m\u001b[0m\u001b[0m\n",
      "\u001b[0;31mTypeError\u001b[0m: int() argument must be a string, a bytes-like object or a number, not 'list'"
     ]
    }
   ],
   "source": [
    "labeler(codelist, codeid)"
   ]
  },
  {
   "cell_type": "code",
   "execution_count": null,
   "metadata": {
    "collapsed": false
   },
   "outputs": [],
   "source": []
  },
  {
   "cell_type": "code",
   "execution_count": null,
   "metadata": {
    "collapsed": false
   },
   "outputs": [],
   "source": []
  },
  {
   "cell_type": "code",
   "execution_count": null,
   "metadata": {
    "collapsed": false
   },
   "outputs": [],
   "source": []
  },
  {
   "cell_type": "code",
   "execution_count": null,
   "metadata": {
    "collapsed": false
   },
   "outputs": [],
   "source": []
  },
  {
   "cell_type": "code",
   "execution_count": null,
   "metadata": {
    "collapsed": true
   },
   "outputs": [],
   "source": [
    "import csv\n",
    "\n",
    "sms_data = []\n",
    "sms_results = []\n",
    "\n",
    "with open('test.csv') as f:\n",
    "    reader = csv.reader(f, delimiter=',')\n",
    "    for row in reader:\n",
    "        sms_data.append(row[1])\n",
    "        sms_results.append(row[0])"
   ]
  }
 ],
 "metadata": {
  "kernelspec": {
   "display_name": "Python 3",
   "language": "python",
   "name": "python3"
  },
  "language_info": {
   "codemirror_mode": {
    "name": "ipython",
    "version": 3
   },
   "file_extension": ".py",
   "mimetype": "text/x-python",
   "name": "python",
   "nbconvert_exporter": "python",
   "pygments_lexer": "ipython3",
   "version": "3.4.3"
  }
 },
 "nbformat": 4,
 "nbformat_minor": 0
}
