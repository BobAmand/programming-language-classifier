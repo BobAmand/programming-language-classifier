{
 "cells": [
  {
   "cell_type": "code",
   "execution_count": 60,
   "metadata": {
    "collapsed": true
   },
   "outputs": [],
   "source": [
    "from collections import Counter, defaultdict, namedtuple\n",
    "from functools import partial\n",
    "import pandas as pd\n",
    "import numpy as np\n",
    "import math, random\n",
    "import glob"
   ]
  },
  {
   "cell_type": "markdown",
   "metadata": {},
   "source": [
    "Current exercise has the following steps:\n",
    "1. create a DECODER model that will discriminate computer code and identify the language by the code features.\n",
    "2. the input training and test files needs to be prepared.\n",
    "3. Target Structure to feed into decoding model:\n",
    "    - training set: [file ID, [set of features, known code])\n",
    "    - testing set: [file ID, [set of features, known code])\n",
    "3. the discriminating features of code are not yet defined. \n",
    "4. the files need to be processed for input.\n",
    "5. Need to decide which classifier is useful.\n",
    "\n",
    "Strategy and Initial observations:\n",
    "1. Envisioning a set of data that includes a row number, a profile of regex distributions, and the code type. \n",
    "2. Need to determine how to read in a file name, capture the file extension and associate it with the regex text profile.\n",
    "3. Immerse self in the TextBlob software. \n",
    "4. Need to understand the role of glob.glob.\n"
   ]
  },
  {
   "cell_type": "markdown",
   "metadata": {},
   "source": [
    "Loading test data:\n",
    "1. glob the test set of files: 1 -> 32\n",
    "2. append the test.csv code label (answer key for code file 1 to 32)\n",
    "   - There are 2-4 code assignments per code type in the test data.\n",
    "   - Target training to test ratio should between 60/40 and 75/25.\n",
    "   - Therefore, need a minimum of 16 training snippets per code to cover the minimum 25% (4test/16train).\n",
    "3. initial train/testing will focus on one translater.\n",
    "4. quick build - a test and a benchmark. [start with ONE]\n",
    "   - build a test for Python.\n",
    "   - build a training set for Python"
   ]
  },
  {
   "cell_type": "markdown",
   "metadata": {},
   "source": [
    "Will start by getting control of the test data:"
   ]
  },
  {
   "cell_type": "code",
   "execution_count": 61,
   "metadata": {
    "collapsed": true
   },
   "outputs": [],
   "source": [
    "def read_snippets_test(num):\n",
    "    snips=[]\n",
    "    for i in range(1, num):\n",
    "        filetest = glob.glob('test/{}'.format(i))\n",
    "        for files in filetest:\n",
    "            with open(files) as f:\n",
    "                snips.append(f.read())\n",
    "    return snips"
   ]
  },
  {
   "cell_type": "code",
   "execution_count": 125,
   "metadata": {
    "collapsed": false
   },
   "outputs": [],
   "source": [
    "sniptest = read_snippets_test(33)"
   ]
  },
  {
   "cell_type": "code",
   "execution_count": 126,
   "metadata": {
    "collapsed": false
   },
   "outputs": [
    {
     "data": {
      "text/plain": [
       "list"
      ]
     },
     "execution_count": 126,
     "metadata": {},
     "output_type": "execute_result"
    }
   ],
   "source": [
    "type(sniptest)"
   ]
  },
  {
   "cell_type": "code",
   "execution_count": 127,
   "metadata": {
    "collapsed": false
   },
   "outputs": [
    {
     "data": {
      "text/plain": [
       "32"
      ]
     },
     "execution_count": 127,
     "metadata": {},
     "output_type": "execute_result"
    }
   ],
   "source": [
    "len(sniptest)"
   ]
  },
  {
   "cell_type": "code",
   "execution_count": 128,
   "metadata": {
    "collapsed": false
   },
   "outputs": [
    {
     "data": {
      "text/plain": [
       "'(defn cf-settings\\n  \"Setup settings for campfire. Required information is your api-token, ssl connection\\n  true or false, and your campfire sub-domain.\"\\n  [token ssl sub-domain]\\n  {:api-token token, :ssl ssl, :sub-domain sub-domain})\\n\\n(defn room\\n  \"Sets up the room to send events too. Pass in the settings created with cf-settings\\n  and the room name\"\\n  [settings room-name]\\n  (cf/room-by-name settings room-name))\\n\\n(defn campfire_message\\n  \"Formats an event into a string\"\\n  [e]\\n  (str (join \" \" [\"Riemann alert on\" (str (:host e)) \"-\" (str (:service e)) \"is\" (upper-case (str (:state e))) \"- Description:\" (str (:description e))])))\\n\\n(defn campfire\\n  \"Creates an adaptor to forward events to campfire. The campfire event will\\n  contain the host, state, service, metric and description.\\n  Tested with:\\n  (streams\\n    (by [:host, :service]\\n      (let [camp (campfire \\\\\"token\\\\\", true, \\\\\"sub-domain\\\\\", \\\\\"room\\\\\")]\\n        camp)))\"\\n  [token ssl sub-domain room-name]\\n  (fn [e]\\n    (let [message_string (campfire_message e)\\n          settings (cf-settings token ssl sub-domain)]\\n      (cf/message (room settings room-name) message_string))))'"
      ]
     },
     "execution_count": 128,
     "metadata": {},
     "output_type": "execute_result"
    }
   ],
   "source": [
    "sniptest[0]"
   ]
  },
  {
   "cell_type": "code",
   "execution_count": 129,
   "metadata": {
    "collapsed": true
   },
   "outputs": [],
   "source": [
    "sniptestnames = pd.read_csv('test.csv',sep=',',header=None)"
   ]
  },
  {
   "cell_type": "code",
   "execution_count": 130,
   "metadata": {
    "collapsed": false
   },
   "outputs": [
    {
     "data": {
      "text/plain": [
       "pandas.core.frame.DataFrame"
      ]
     },
     "execution_count": 130,
     "metadata": {},
     "output_type": "execute_result"
    }
   ],
   "source": [
    "type(sniptestnames)"
   ]
  },
  {
   "cell_type": "code",
   "execution_count": 131,
   "metadata": {
    "collapsed": false
   },
   "outputs": [
    {
     "data": {
      "text/plain": [
       "32"
      ]
     },
     "execution_count": 131,
     "metadata": {},
     "output_type": "execute_result"
    }
   ],
   "source": [
    "len(sniptestnames)"
   ]
  },
  {
   "cell_type": "code",
   "execution_count": 132,
   "metadata": {
    "collapsed": false
   },
   "outputs": [
    {
     "data": {
      "text/plain": [
       "['clojure', 'clojure', 'clojure']"
      ]
     },
     "execution_count": 132,
     "metadata": {},
     "output_type": "execute_result"
    }
   ],
   "source": [
    "list(sniptestnames[1])[:3]"
   ]
  },
  {
   "cell_type": "code",
   "execution_count": 133,
   "metadata": {
    "collapsed": false
   },
   "outputs": [
    {
     "data": {
      "text/plain": [
       "32"
      ]
     },
     "execution_count": 133,
     "metadata": {},
     "output_type": "execute_result"
    }
   ],
   "source": [
    "len(list(sniptestnames[1]))"
   ]
  },
  {
   "cell_type": "code",
   "execution_count": 134,
   "metadata": {
    "collapsed": false
   },
   "outputs": [
    {
     "data": {
      "text/plain": [
       "'clojure'"
      ]
     },
     "execution_count": 134,
     "metadata": {},
     "output_type": "execute_result"
    }
   ],
   "source": [
    "sniptestnames[1][0]"
   ]
  },
  {
   "cell_type": "code",
   "execution_count": 135,
   "metadata": {
    "collapsed": false
   },
   "outputs": [
    {
     "data": {
      "text/plain": [
       "'let search_compiler_libs () =\\n  prerr_endline \"I: Searching for OCaml compiler libraries\";\\n  let stdlib = BaseEnv.var_get \"standard_library\" in\\n  let ( / ) = Filename.concat in\\n  try\\n    List.find (fun path -> Sys.file_exists (path / \"types.cmi\") || Sys.file_exists (path / \"typing\" / \"types.cmi\")) [\\n      stdlib;\\n      stdlib / \"compiler-libs\";\\n      stdlib / \"compiler-lib\";\\n      stdlib / \"..\" / \"compiler-libs\";\\n      stdlib / \"..\" / \"compiler-lib\";\\n    ]\\n  with Not_found ->\\n    prerr_endline \"E: Cannot find compiler libraries! See the README for details.\";\\n    exit 1'"
      ]
     },
     "execution_count": 135,
     "metadata": {},
     "output_type": "execute_result"
    }
   ],
   "source": [
    "sniptest[31]"
   ]
  },
  {
   "cell_type": "markdown",
   "metadata": {},
   "source": [
    "It appears the sniptest data is a list of the code from the files.  The sniptestnames data is a DataFrame."
   ]
  },
  {
   "cell_type": "markdown",
   "metadata": {},
   "source": [
    "Want to merge the name file with the code in the same order.  "
   ]
  },
  {
   "cell_type": "markdown",
   "metadata": {},
   "source": [
    "First try:  convert list of code to a DataFrame and then merge the name column.\n",
    "Since cannot get control of the test data will attempt to prepare the Training data.\n",
    "As a test, I can pull"
   ]
  },
  {
   "cell_type": "code",
   "execution_count": 99,
   "metadata": {
    "collapsed": false
   },
   "outputs": [],
   "source": [
    "def read_snippets_train(directory):\n",
    "    filetrain = glob.glob('benchmarksgame-2014-08-31/benchmarksgame/bench/{}/*.go*'.format(directory))\n",
    "    snips = []\n",
    "    for files in filetrain:\n",
    "        with open(files) as f:\n",
    "            snips.append(f.read())\n",
    "    return snips"
   ]
  },
  {
   "cell_type": "code",
   "execution_count": 100,
   "metadata": {
    "collapsed": false
   },
   "outputs": [],
   "source": [
    "initial = read_snippets_train('binarytrees')"
   ]
  },
  {
   "cell_type": "code",
   "execution_count": 101,
   "metadata": {
    "collapsed": false
   },
   "outputs": [
    {
     "data": {
      "text/plain": [
       "list"
      ]
     },
     "execution_count": 101,
     "metadata": {},
     "output_type": "execute_result"
    }
   ],
   "source": [
    "type(initial)"
   ]
  },
  {
   "cell_type": "code",
   "execution_count": 102,
   "metadata": {
    "collapsed": false
   },
   "outputs": [
    {
     "data": {
      "text/plain": [
       "8"
      ]
     },
     "execution_count": 102,
     "metadata": {},
     "output_type": "execute_result"
    }
   ],
   "source": [
    "len(initial)"
   ]
  },
  {
   "cell_type": "code",
   "execution_count": 103,
   "metadata": {
    "collapsed": false
   },
   "outputs": [],
   "source": [
    "import csv\n",
    "\n",
    "sms_data = []\n",
    "sms_results = []\n",
    "\n",
    "with open('test.csv') as f:\n",
    "    reader = csv.reader(f, delimiter=',')\n",
    "    for row in reader:\n",
    "        sms_data.append(row[1])\n",
    "        sms_results.append(row[0])"
   ]
  },
  {
   "cell_type": "code",
   "execution_count": 104,
   "metadata": {
    "collapsed": false
   },
   "outputs": [
    {
     "data": {
      "text/plain": [
       "32"
      ]
     },
     "execution_count": 104,
     "metadata": {},
     "output_type": "execute_result"
    }
   ],
   "source": [
    "len(sms_data)"
   ]
  },
  {
   "cell_type": "code",
   "execution_count": 105,
   "metadata": {
    "collapsed": false
   },
   "outputs": [
    {
     "data": {
      "text/plain": [
       "32"
      ]
     },
     "execution_count": 105,
     "metadata": {},
     "output_type": "execute_result"
    }
   ],
   "source": [
    "len(sms_results)"
   ]
  },
  {
   "cell_type": "code",
   "execution_count": 106,
   "metadata": {
    "collapsed": false
   },
   "outputs": [
    {
     "data": {
      "text/plain": [
       "31"
      ]
     },
     "execution_count": 106,
     "metadata": {},
     "output_type": "execute_result"
    }
   ],
   "source": [
    "len(sniptest)"
   ]
  },
  {
   "cell_type": "code",
   "execution_count": 110,
   "metadata": {
    "collapsed": false
   },
   "outputs": [
    {
     "data": {
      "text/plain": [
       "list"
      ]
     },
     "execution_count": 110,
     "metadata": {},
     "output_type": "execute_result"
    }
   ],
   "source": [
    "type(sniptest)"
   ]
  },
  {
   "cell_type": "code",
   "execution_count": 136,
   "metadata": {
    "collapsed": false
   },
   "outputs": [
    {
     "data": {
      "text/plain": [
       "'let search_compiler_libs () =\\n  prerr_endline \"I: Searching for OCaml compiler libraries\";\\n  let stdlib = BaseEnv.var_get \"standard_library\" in\\n  let ( / ) = Filename.concat in\\n  try\\n    List.find (fun path -> Sys.file_exists (path / \"types.cmi\") || Sys.file_exists (path / \"typing\" / \"types.cmi\")) [\\n      stdlib;\\n      stdlib / \"compiler-libs\";\\n      stdlib / \"compiler-lib\";\\n      stdlib / \"..\" / \"compiler-libs\";\\n      stdlib / \"..\" / \"compiler-lib\";\\n    ]\\n  with Not_found ->\\n    prerr_endline \"E: Cannot find compiler libraries! See the README for details.\";\\n    exit 1'"
      ]
     },
     "execution_count": 136,
     "metadata": {},
     "output_type": "execute_result"
    }
   ],
   "source": [
    "sniptest[31]"
   ]
  },
  {
   "cell_type": "code",
   "execution_count": null,
   "metadata": {
    "collapsed": true
   },
   "outputs": [],
   "source": []
  }
 ],
 "metadata": {
  "kernelspec": {
   "display_name": "Python 3",
   "language": "python",
   "name": "python3"
  },
  "language_info": {
   "codemirror_mode": {
    "name": "ipython",
    "version": 3
   },
   "file_extension": ".py",
   "mimetype": "text/x-python",
   "name": "python",
   "nbconvert_exporter": "python",
   "pygments_lexer": "ipython3",
   "version": "3.4.3"
  }
 },
 "nbformat": 4,
 "nbformat_minor": 0
}
