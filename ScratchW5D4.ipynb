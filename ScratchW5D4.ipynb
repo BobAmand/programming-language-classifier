{
 "cells": [
  {
   "cell_type": "code",
   "execution_count": 85,
   "metadata": {
    "collapsed": true
   },
   "outputs": [],
   "source": [
    "from collections import Counter, defaultdict, namedtuple\n",
    "from functools import partial\n",
    "import pandas as pd\n",
    "import numpy as np\n",
    "import math, random\n",
    "import glob"
   ]
  },
  {
   "cell_type": "code",
   "execution_count": 68,
   "metadata": {
    "collapsed": false
   },
   "outputs": [],
   "source": [
    "#%install_ext https://raw.github.com/tkf/ipython-hierarchymagic/master/hierarchymagic.py"
   ]
  },
  {
   "cell_type": "code",
   "execution_count": 69,
   "metadata": {
    "collapsed": false
   },
   "outputs": [],
   "source": [
    "#%load_ext hierarchymagic"
   ]
  },
  {
   "cell_type": "code",
   "execution_count": 70,
   "metadata": {
    "collapsed": false
   },
   "outputs": [],
   "source": [
    "filetest = glob.glob('benchmarksgame-2014-08-31/benchmarksgame/bench/binarytrees/binarytrees.ats')"
   ]
  },
  {
   "cell_type": "code",
   "execution_count": 71,
   "metadata": {
    "collapsed": false
   },
   "outputs": [
    {
     "data": {
      "text/plain": [
       "['benchmarksgame-2014-08-31/benchmarksgame/bench/binarytrees/binarytrees.ats']"
      ]
     },
     "execution_count": 71,
     "metadata": {},
     "output_type": "execute_result"
    }
   ],
   "source": [
    "filetest"
   ]
  },
  {
   "cell_type": "markdown",
   "metadata": {},
   "source": [
    "Here, have been able to read in all the files that contain the binarytree directory with a \"go\" extension."
   ]
  },
  {
   "cell_type": "code",
   "execution_count": 72,
   "metadata": {
    "collapsed": true
   },
   "outputs": [],
   "source": [
    "def read_snippets_train(directory):\n",
    "    filetrain = glob.glob('benchmarksgame-2014-08-31/benchmarksgame/bench/{}/*.go*'.format(directory))\n",
    "    snips = []\n",
    "    for files in filetrain:\n",
    "        with open(files) as f:\n",
    "            snips.append(f.read())\n",
    "    return snips"
   ]
  },
  {
   "cell_type": "code",
   "execution_count": 73,
   "metadata": {
    "collapsed": false
   },
   "outputs": [],
   "source": [
    "res = read_snippets_train('binarytrees')"
   ]
  },
  {
   "cell_type": "code",
   "execution_count": 74,
   "metadata": {
    "collapsed": false
   },
   "outputs": [
    {
     "data": {
      "text/plain": [
       "['/* The Computer Language Benchmarks Game\\n * http://benchmarksgame.alioth.debian.org/\\n *\\n * contributed by The Go Authors.\\n * based on C program by Kevin Carson\\n * flag.Arg hack by Isaac Gouy\\n */\\n\\npackage main\\n\\nimport (\\n   \"flag\"\\n   \"fmt\"\\n   \"strconv\"\\n)\\n\\nvar n = 0\\n\\ntype Node struct {\\n     item   int\\n     left, right   *Node\\n}\\n\\nfunc  bottomUpTree(item, depth int) *Node {\\n   if depth <= 0 {\\n      return &Node{item: item}\\n   }\\n   return &Node{ item, bottomUpTree(2*item-1, depth-1), bottomUpTree(2*item, depth-1) }\\n}\\n\\nfunc (n *Node) itemCheck() int {\\n   if n.left == nil {\\n      return n.item\\n   }\\n   return n.item + n.left.itemCheck() - n.right.itemCheck()\\n}\\n\\nconst minDepth = 4\\n\\nfunc main() {\\n   flag.Parse()\\n   if flag.NArg() > 0 { n,_ = strconv.Atoi( flag.Arg(0) ) }\\n\\n   maxDepth := n\\n   if minDepth + 2 > n {\\n      maxDepth = minDepth + 2\\n   }\\n   stretchDepth := maxDepth + 1\\n\\n   check := bottomUpTree(0, stretchDepth).itemCheck()\\n   fmt.Printf(\"stretch tree of depth %d\\\\t check: %d\\\\n\", stretchDepth, check)\\n\\n   longLivedTree := bottomUpTree(0, maxDepth)\\n\\n   for depth := minDepth; depth <= maxDepth; depth+=2 {\\n      iterations := 1 << uint(maxDepth - depth + minDepth)\\n      check = 0\\n\\n      for i := 1; i <= iterations; i++ {\\n         check += bottomUpTree(i,depth).itemCheck()\\n         check += bottomUpTree(-i,depth).itemCheck()\\n      }\\n      fmt.Printf(\"%d\\\\t trees of depth %d\\\\t check: %d\\\\n\", iterations*2, depth, check)\\n   }\\n   fmt.Printf(\"long lived tree of depth %d\\\\t check: %d\\\\n\", maxDepth, longLivedTree.itemCheck())\\n}\\n']"
      ]
     },
     "execution_count": 74,
     "metadata": {},
     "output_type": "execute_result"
    }
   ],
   "source": [
    "res[:1]"
   ]
  },
  {
   "cell_type": "code",
   "execution_count": 75,
   "metadata": {
    "collapsed": false
   },
   "outputs": [
    {
     "data": {
      "text/plain": [
       "8"
      ]
     },
     "execution_count": 75,
     "metadata": {},
     "output_type": "execute_result"
    }
   ],
   "source": [
    "len(res)"
   ]
  },
  {
   "cell_type": "markdown",
   "metadata": {},
   "source": [
    "Here, have been able to read in all the test files from 1 to 32:"
   ]
  },
  {
   "cell_type": "code",
   "execution_count": 76,
   "metadata": {
    "collapsed": true
   },
   "outputs": [],
   "source": [
    "def read_snippets_test(num):\n",
    "    snips=[]\n",
    "    for i in range(1, num):\n",
    "        filetest = glob.glob('test/{}'.format(i))\n",
    "        for files in filetest:\n",
    "            with open(files) as f:\n",
    "                snips.append(f.read())\n",
    "    return snips"
   ]
  },
  {
   "cell_type": "code",
   "execution_count": 77,
   "metadata": {
    "collapsed": true
   },
   "outputs": [],
   "source": [
    "temp = read_snippets_test(32)"
   ]
  },
  {
   "cell_type": "code",
   "execution_count": 78,
   "metadata": {
    "collapsed": false
   },
   "outputs": [
    {
     "data": {
      "text/plain": [
       "31"
      ]
     },
     "execution_count": 78,
     "metadata": {},
     "output_type": "execute_result"
    }
   ],
   "source": [
    "len(temp)"
   ]
  },
  {
   "cell_type": "code",
   "execution_count": 79,
   "metadata": {
    "collapsed": false
   },
   "outputs": [
    {
     "data": {
      "text/plain": [
       "['(defn cf-settings\\n  \"Setup settings for campfire. Required information is your api-token, ssl connection\\n  true or false, and your campfire sub-domain.\"\\n  [token ssl sub-domain]\\n  {:api-token token, :ssl ssl, :sub-domain sub-domain})\\n\\n(defn room\\n  \"Sets up the room to send events too. Pass in the settings created with cf-settings\\n  and the room name\"\\n  [settings room-name]\\n  (cf/room-by-name settings room-name))\\n\\n(defn campfire_message\\n  \"Formats an event into a string\"\\n  [e]\\n  (str (join \" \" [\"Riemann alert on\" (str (:host e)) \"-\" (str (:service e)) \"is\" (upper-case (str (:state e))) \"- Description:\" (str (:description e))])))\\n\\n(defn campfire\\n  \"Creates an adaptor to forward events to campfire. The campfire event will\\n  contain the host, state, service, metric and description.\\n  Tested with:\\n  (streams\\n    (by [:host, :service]\\n      (let [camp (campfire \\\\\"token\\\\\", true, \\\\\"sub-domain\\\\\", \\\\\"room\\\\\")]\\n        camp)))\"\\n  [token ssl sub-domain room-name]\\n  (fn [e]\\n    (let [message_string (campfire_message e)\\n          settings (cf-settings token ssl sub-domain)]\\n      (cf/message (room settings room-name) message_string))))',\n",
       " '(ns my-cli.core)\\n\\n(defn -main [& args]\\n  (println \"My CLI received arguments:\" args))\\n\\n(defn add-main [& args]\\n  (->> (map #(Integer/parseInt %) args)\\n       (reduce + 0)\\n       (println \"The sum is:\")))']"
      ]
     },
     "execution_count": 79,
     "metadata": {},
     "output_type": "execute_result"
    }
   ],
   "source": [
    "temp[:2]"
   ]
  },
  {
   "cell_type": "markdown",
   "metadata": {},
   "source": [
    "Here, have been able to read in the test labels."
   ]
  },
  {
   "cell_type": "code",
   "execution_count": 82,
   "metadata": {
    "collapsed": false
   },
   "outputs": [],
   "source": [
    "testnames = pd.read_csv('test.csv', sep=',', header=None)"
   ]
  },
  {
   "cell_type": "code",
   "execution_count": 118,
   "metadata": {
    "collapsed": false
   },
   "outputs": [
    {
     "data": {
      "text/html": [
       "<div>\n",
       "<table border=\"1\" class=\"dataframe\">\n",
       "  <thead>\n",
       "    <tr style=\"text-align: right;\">\n",
       "      <th></th>\n",
       "      <th>0</th>\n",
       "      <th>1</th>\n",
       "    </tr>\n",
       "  </thead>\n",
       "  <tbody>\n",
       "    <tr>\n",
       "      <th>0</th>\n",
       "      <td>1</td>\n",
       "      <td>clojure</td>\n",
       "    </tr>\n",
       "    <tr>\n",
       "      <th>1</th>\n",
       "      <td>2</td>\n",
       "      <td>clojure</td>\n",
       "    </tr>\n",
       "    <tr>\n",
       "      <th>2</th>\n",
       "      <td>3</td>\n",
       "      <td>clojure</td>\n",
       "    </tr>\n",
       "  </tbody>\n",
       "</table>\n",
       "</div>"
      ],
      "text/plain": [
       "   0        1\n",
       "0  1  clojure\n",
       "1  2  clojure\n",
       "2  3  clojure"
      ]
     },
     "execution_count": 118,
     "metadata": {},
     "output_type": "execute_result"
    }
   ],
   "source": [
    "testnames[:3]"
   ]
  },
  {
   "cell_type": "code",
   "execution_count": 121,
   "metadata": {
    "collapsed": false
   },
   "outputs": [
    {
     "data": {
      "text/plain": [
       "pandas.core.frame.DataFrame"
      ]
     },
     "execution_count": 121,
     "metadata": {},
     "output_type": "execute_result"
    }
   ],
   "source": [
    "type(testnames)"
   ]
  },
  {
   "cell_type": "code",
   "execution_count": 123,
   "metadata": {
    "collapsed": false
   },
   "outputs": [
    {
     "data": {
      "text/plain": [
       "32"
      ]
     },
     "execution_count": 123,
     "metadata": {},
     "output_type": "execute_result"
    }
   ],
   "source": [
    "len(testnames[1])"
   ]
  },
  {
   "cell_type": "code",
   "execution_count": 124,
   "metadata": {
    "collapsed": false
   },
   "outputs": [
    {
     "data": {
      "text/plain": [
       "list"
      ]
     },
     "execution_count": 124,
     "metadata": {},
     "output_type": "execute_result"
    }
   ],
   "source": [
    "type(temp)"
   ]
  },
  {
   "cell_type": "code",
   "execution_count": 125,
   "metadata": {
    "collapsed": false
   },
   "outputs": [
    {
     "data": {
      "text/plain": [
       "31"
      ]
     },
     "execution_count": 125,
     "metadata": {},
     "output_type": "execute_result"
    }
   ],
   "source": [
    "len(temp)"
   ]
  },
  {
   "cell_type": "code",
   "execution_count": 131,
   "metadata": {
    "collapsed": false
   },
   "outputs": [
    {
     "data": {
      "text/plain": [
       "['clojure',\n",
       " 'clojure',\n",
       " 'clojure',\n",
       " 'clojure',\n",
       " 'python',\n",
       " 'python',\n",
       " 'python',\n",
       " 'python',\n",
       " 'javascript',\n",
       " 'javascript',\n",
       " 'javascript',\n",
       " 'javascript',\n",
       " 'ruby',\n",
       " 'ruby',\n",
       " 'ruby',\n",
       " 'haskell',\n",
       " 'haskell',\n",
       " 'haskell',\n",
       " 'scheme',\n",
       " 'scheme',\n",
       " 'scheme',\n",
       " 'java',\n",
       " 'java',\n",
       " 'scala',\n",
       " 'scala',\n",
       " 'tcl',\n",
       " 'tcl',\n",
       " 'php',\n",
       " 'php',\n",
       " 'php',\n",
       " 'ocaml',\n",
       " 'ocaml']"
      ]
     },
     "execution_count": 131,
     "metadata": {},
     "output_type": "execute_result"
    }
   ],
   "source": [
    "list(testnames[1])"
   ]
  },
  {
   "cell_type": "markdown",
   "metadata": {},
   "source": [
    "Need to consolidate data types: "
   ]
  },
  {
   "cell_type": "code",
   "execution_count": 141,
   "metadata": {
    "collapsed": false
   },
   "outputs": [
    {
     "data": {
      "text/plain": [
       "list"
      ]
     },
     "execution_count": 141,
     "metadata": {},
     "output_type": "execute_result"
    }
   ],
   "source": [
    "type(res)"
   ]
  },
  {
   "cell_type": "code",
   "execution_count": 142,
   "metadata": {
    "collapsed": false
   },
   "outputs": [
    {
     "data": {
      "text/plain": [
       "list"
      ]
     },
     "execution_count": 142,
     "metadata": {},
     "output_type": "execute_result"
    }
   ],
   "source": [
    "type(temp)"
   ]
  },
  {
   "cell_type": "code",
   "execution_count": 143,
   "metadata": {
    "collapsed": false
   },
   "outputs": [
    {
     "data": {
      "text/plain": [
       "pandas.core.frame.DataFrame"
      ]
     },
     "execution_count": 143,
     "metadata": {},
     "output_type": "execute_result"
    }
   ],
   "source": [
    "type(testnames)"
   ]
  },
  {
   "cell_type": "code",
   "execution_count": 144,
   "metadata": {
    "collapsed": false
   },
   "outputs": [
    {
     "data": {
      "text/plain": [
       "list"
      ]
     },
     "execution_count": 144,
     "metadata": {},
     "output_type": "execute_result"
    }
   ],
   "source": [
    "type(list(testnames[1]))"
   ]
  },
  {
   "cell_type": "markdown",
   "metadata": {},
   "source": [
    "Planning to merge the list of computer code onto the panda dataframe of the test names (have already tried multiple ways of merging this data without success).   -get garbage with creation of a dictionary."
   ]
  },
  {
   "cell_type": "code",
   "execution_count": 149,
   "metadata": {
    "collapsed": false
   },
   "outputs": [
    {
     "data": {
      "text/plain": [
       "'\\ntestnames[2]= temp    #will not work with non-equal variable lenghts (testnames = 1-32; temp = 0-31)\\n'"
      ]
     },
     "execution_count": 149,
     "metadata": {},
     "output_type": "execute_result"
    }
   ],
   "source": [
    "# Keep the panda DataFrame data type in the 'testnames'.\n",
    "# merge lists to the dataframe. \n",
    "\n",
    "# temp = list of text\n",
    "# testnames = dataframe with list[1] of computer names in order.\n",
    "'''\n",
    "testnames[2]= temp    #will not work with non-equal variable lenghts (testnames = 1-32; temp = 0-31)\n",
    "'''"
   ]
  },
  {
   "cell_type": "code",
   "execution_count": null,
   "metadata": {
    "collapsed": false
   },
   "outputs": [],
   "source": []
  },
  {
   "cell_type": "code",
   "execution_count": null,
   "metadata": {
    "collapsed": false
   },
   "outputs": [],
   "source": []
  },
  {
   "cell_type": "code",
   "execution_count": null,
   "metadata": {
    "collapsed": false
   },
   "outputs": [],
   "source": []
  },
  {
   "cell_type": "code",
   "execution_count": null,
   "metadata": {
    "collapsed": true
   },
   "outputs": [],
   "source": []
  },
  {
   "cell_type": "code",
   "execution_count": null,
   "metadata": {
    "collapsed": true
   },
   "outputs": [],
   "source": []
  }
 ],
 "metadata": {
  "kernelspec": {
   "display_name": "Python 3",
   "language": "python",
   "name": "python3"
  },
  "language_info": {
   "codemirror_mode": {
    "name": "ipython",
    "version": 3
   },
   "file_extension": ".py",
   "mimetype": "text/x-python",
   "name": "python",
   "nbconvert_exporter": "python",
   "pygments_lexer": "ipython3",
   "version": "3.4.3"
  }
 },
 "nbformat": 4,
 "nbformat_minor": 0
}
