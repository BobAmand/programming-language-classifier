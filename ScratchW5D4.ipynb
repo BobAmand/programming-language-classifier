{
 "cells": [
  {
   "cell_type": "code",
   "execution_count": 28,
   "metadata": {
    "collapsed": true
   },
   "outputs": [],
   "source": [
    "from collections import Counter, defaultdict, namedtuple\n",
    "from functools import partial\n",
    "import math, random\n",
    "import glob"
   ]
  },
  {
   "cell_type": "code",
   "execution_count": 29,
   "metadata": {
    "collapsed": false
   },
   "outputs": [],
   "source": [
    "#%install_ext https://raw.github.com/tkf/ipython-hierarchymagic/master/hierarchymagic.py"
   ]
  },
  {
   "cell_type": "code",
   "execution_count": 30,
   "metadata": {
    "collapsed": false
   },
   "outputs": [],
   "source": [
    "#%load_ext hierarchymagic"
   ]
  },
  {
   "cell_type": "code",
   "execution_count": 39,
   "metadata": {
    "collapsed": false
   },
   "outputs": [],
   "source": [
    "filetest = glob.glob('benchmarksgame-2014-08-31/benchmarksgame/bench/binarytrees/binarytrees.ats')"
   ]
  },
  {
   "cell_type": "code",
   "execution_count": 40,
   "metadata": {
    "collapsed": false
   },
   "outputs": [
    {
     "data": {
      "text/plain": [
       "['benchmarksgame-2014-08-31/benchmarksgame/bench/binarytrees/binarytrees.ats']"
      ]
     },
     "execution_count": 40,
     "metadata": {},
     "output_type": "execute_result"
    }
   ],
   "source": [
    "filetest"
   ]
  },
  {
   "cell_type": "code",
   "execution_count": null,
   "metadata": {
    "collapsed": false
   },
   "outputs": [],
   "source": []
  },
  {
   "cell_type": "code",
   "execution_count": 48,
   "metadata": {
    "collapsed": true
   },
   "outputs": [],
   "source": [
    "def read_snippets(directory):\n",
    "    filetest = glob.glob('benchmarksgame-2014-08-31/benchmarksgame/bench/{}/*.go*'.format(directory))\n",
    "    snips = []\n",
    "    for files in filetest:\n",
    "        with open(files) as f:\n",
    "            snips.append(f.read())\n",
    "    return snips"
   ]
  },
  {
   "cell_type": "code",
   "execution_count": 49,
   "metadata": {
    "collapsed": false
   },
   "outputs": [],
   "source": [
    "res = read_snippets('binarytrees')"
   ]
  },
  {
   "cell_type": "code",
   "execution_count": 51,
   "metadata": {
    "collapsed": false
   },
   "outputs": [
    {
     "data": {
      "text/plain": [
       "['/* The Computer Language Benchmarks Game\\n * http://benchmarksgame.alioth.debian.org/\\n *\\n * contributed by The Go Authors.\\n * based on C program by Kevin Carson\\n * flag.Arg hack by Isaac Gouy\\n */\\n\\npackage main\\n\\nimport (\\n   \"flag\"\\n   \"fmt\"\\n   \"strconv\"\\n)\\n\\nvar n = 0\\n\\ntype Node struct {\\n     item   int\\n     left, right   *Node\\n}\\n\\nfunc  bottomUpTree(item, depth int) *Node {\\n   if depth <= 0 {\\n      return &Node{item: item}\\n   }\\n   return &Node{ item, bottomUpTree(2*item-1, depth-1), bottomUpTree(2*item, depth-1) }\\n}\\n\\nfunc (n *Node) itemCheck() int {\\n   if n.left == nil {\\n      return n.item\\n   }\\n   return n.item + n.left.itemCheck() - n.right.itemCheck()\\n}\\n\\nconst minDepth = 4\\n\\nfunc main() {\\n   flag.Parse()\\n   if flag.NArg() > 0 { n,_ = strconv.Atoi( flag.Arg(0) ) }\\n\\n   maxDepth := n\\n   if minDepth + 2 > n {\\n      maxDepth = minDepth + 2\\n   }\\n   stretchDepth := maxDepth + 1\\n\\n   check := bottomUpTree(0, stretchDepth).itemCheck()\\n   fmt.Printf(\"stretch tree of depth %d\\\\t check: %d\\\\n\", stretchDepth, check)\\n\\n   longLivedTree := bottomUpTree(0, maxDepth)\\n\\n   for depth := minDepth; depth <= maxDepth; depth+=2 {\\n      iterations := 1 << uint(maxDepth - depth + minDepth)\\n      check = 0\\n\\n      for i := 1; i <= iterations; i++ {\\n         check += bottomUpTree(i,depth).itemCheck()\\n         check += bottomUpTree(-i,depth).itemCheck()\\n      }\\n      fmt.Printf(\"%d\\\\t trees of depth %d\\\\t check: %d\\\\n\", iterations*2, depth, check)\\n   }\\n   fmt.Printf(\"long lived tree of depth %d\\\\t check: %d\\\\n\", maxDepth, longLivedTree.itemCheck())\\n}\\n']"
      ]
     },
     "execution_count": 51,
     "metadata": {},
     "output_type": "execute_result"
    }
   ],
   "source": [
    "res[:1]"
   ]
  },
  {
   "cell_type": "code",
   "execution_count": 52,
   "metadata": {
    "collapsed": false
   },
   "outputs": [
    {
     "data": {
      "text/plain": [
       "8"
      ]
     },
     "execution_count": 52,
     "metadata": {},
     "output_type": "execute_result"
    }
   ],
   "source": [
    "len(res)"
   ]
  },
  {
   "cell_type": "code",
   "execution_count": null,
   "metadata": {
    "collapsed": true
   },
   "outputs": [],
   "source": []
  }
 ],
 "metadata": {
  "kernelspec": {
   "display_name": "Python 3",
   "language": "python",
   "name": "python3"
  },
  "language_info": {
   "codemirror_mode": {
    "name": "ipython",
    "version": 3
   },
   "file_extension": ".py",
   "mimetype": "text/x-python",
   "name": "python",
   "nbconvert_exporter": "python",
   "pygments_lexer": "ipython3",
   "version": "3.4.3"
  }
 },
 "nbformat": 4,
 "nbformat_minor": 0
}
